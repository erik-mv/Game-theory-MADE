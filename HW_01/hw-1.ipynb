{
 "cells": [
  {
   "cell_type": "code",
   "execution_count": 1,
   "metadata": {
    "_cell_guid": "b1076dfc-b9ad-4769-8c92-a6c4dae69d19",
    "_uuid": "8f2839f25d086af736a60e9eeb907d3b93b6e0e5",
    "execution": {
     "iopub.execute_input": "2020-11-12T07:22:50.107745Z",
     "iopub.status.busy": "2020-11-12T07:22:50.106797Z",
     "iopub.status.idle": "2020-11-12T07:22:50.116049Z",
     "shell.execute_reply": "2020-11-12T07:22:50.115308Z"
    },
    "papermill": {
     "duration": 0.099943,
     "end_time": "2020-11-12T07:22:50.116193",
     "exception": false,
     "start_time": "2020-11-12T07:22:50.016250",
     "status": "completed"
    },
    "tags": []
   },
   "outputs": [],
   "source": [
    "import pandas as pd \n",
    "\n",
    "from sklearn.pipeline import Pipeline\n",
    "\n",
    "from sklearn.preprocessing import StandardScaler\n",
    "from sklearn.preprocessing import MinMaxScaler\n",
    "from sklearn.preprocessing import Normalizer\n",
    "\n",
    "from sklearn.tree import DecisionTreeRegressor\n",
    "from sklearn.ensemble import ExtraTreesRegressor\n",
    "from sklearn.ensemble import GradientBoostingRegressor\n",
    "\n",
    "from sklearn.metrics import mean_squared_error"
   ]
  },
  {
   "cell_type": "code",
   "execution_count": 2,
   "metadata": {
    "execution": {
     "iopub.execute_input": "2020-11-12T07:22:50.281193Z",
     "iopub.status.busy": "2020-11-12T07:22:50.280321Z",
     "iopub.status.idle": "2020-11-12T07:22:51.386656Z",
     "shell.execute_reply": "2020-11-12T07:22:51.385967Z"
    },
    "papermill": {
     "duration": 1.191413,
     "end_time": "2020-11-12T07:22:51.386783",
     "exception": false,
     "start_time": "2020-11-12T07:22:50.195370",
     "status": "completed"
    },
    "tags": []
   },
   "outputs": [],
   "source": [
    "df = pd.read_csv('/kaggle/input/real-time-advertisers-auction/Dataset.csv')"
   ]
  },
  {
   "cell_type": "code",
   "execution_count": 3,
   "metadata": {
    "execution": {
     "iopub.execute_input": "2020-11-12T07:22:55.035254Z",
     "iopub.status.busy": "2020-11-12T07:22:55.034102Z",
     "iopub.status.idle": "2020-11-12T07:23:08.296198Z",
     "shell.execute_reply": "2020-11-12T07:23:08.295444Z"
    },
    "papermill": {
     "duration": 13.353358,
     "end_time": "2020-11-12T07:23:08.296326",
     "exception": false,
     "start_time": "2020-11-12T07:22:54.942968",
     "status": "completed"
    },
    "tags": []
   },
   "outputs": [],
   "source": [
    "def weird_division(n, d):\n",
    "    return n / d if d else 0\n",
    "\n",
    "df['CPM'] = df.apply(lambda x: weird_division(((x['total_revenue']*100)),x['measurable_impressions'])*1000 , axis=1)"
   ]
  },
  {
   "cell_type": "code",
   "execution_count": 4,
   "metadata": {},
   "outputs": [
    {
     "data": {
      "text/plain": [
       "567291"
      ]
     },
     "execution_count": 4,
     "metadata": {},
     "output_type": "execute_result"
    }
   ],
   "source": [
    "df.shape[0]"
   ]
  },
  {
   "cell_type": "code",
   "execution_count": 5,
   "metadata": {},
   "outputs": [],
   "source": [
    "df = df[df.CPM >= 0].reset_index(drop=True)\n",
    "\n",
    "df.date = pd.to_datetime(df.date)"
   ]
  },
  {
   "cell_type": "code",
   "execution_count": 6,
   "metadata": {},
   "outputs": [],
   "source": [
    "train = df[df.date < '2019-06-22'].reset_index(drop=True)\n",
    "train = train[train.CPM < train.CPM.quantile(.95)].reset_index(drop=True)\n",
    "\n",
    "test = df[df['date'] >= '2019-06-22'].reset_index(drop=True)\n",
    "test = test[test.CPM < test.CPM.quantile(.95)].reset_index(drop=True)"
   ]
  },
  {
   "cell_type": "code",
   "execution_count": 7,
   "metadata": {},
   "outputs": [
    {
     "data": {
      "text/plain": [
       "538652"
      ]
     },
     "execution_count": 7,
     "metadata": {},
     "output_type": "execute_result"
    }
   ],
   "source": [
    "train.shape[0]+test.shape[0]"
   ]
  },
  {
   "cell_type": "code",
   "execution_count": 8,
   "metadata": {},
   "outputs": [],
   "source": [
    "feat = ['site_id','ad_type_id','geo_id','device_category_id',\n",
    "        'advertiser_id','order_id','line_item_type_id','os_id',\n",
    "        'integration_type_id','monetization_channel_id','ad_unit_id',\n",
    "       ]"
   ]
  },
  {
   "cell_type": "code",
   "execution_count": 10,
   "metadata": {},
   "outputs": [],
   "source": [
    "n_estimator = 200\n",
    "\n",
    "models = []\n",
    "\n",
    "models.append(('CART', DecisionTreeRegressor()))\n",
    "models.append(('SS_CART', Pipeline([('Scaler', StandardScaler()),('CART', DecisionTreeRegressor())])))\n",
    "models.append(('MMS_CART', Pipeline([('MinMax', MinMaxScaler()),('CART', DecisionTreeRegressor())])))\n",
    "models.append(('N_CART', Pipeline([('Norm', Normalizer()),('CART', DecisionTreeRegressor())])))\n",
    "\n",
    "models.append(('ET', ExtraTreesRegressor(n_estimators=n_estimator)))\n",
    "models.append(('SS_ET', Pipeline([('Scaler', StandardScaler()),('ET', ExtraTreesRegressor(n_estimators=n_estimator))])))\n",
    "models.append(('MMS_ET', Pipeline([('MinMax', MinMaxScaler()),('ET', ExtraTreesRegressor(n_estimators=n_estimator))])))\n",
    "models.append(('N_ET', Pipeline([('Norm', Normalizer()),('ET', ExtraTreesRegressor(n_estimators=n_estimator))])))\n",
    "\n",
    "models.append(('GB', GradientBoostingRegressor(n_estimators=n_estimator)))\n",
    "models.append(('SS_GB', Pipeline([('Scaler', StandardScaler()),('GB', GradientBoostingRegressor(n_estimators=n_estimator))])))\n",
    "models.append(('MMS_GB', Pipeline([('MinMax', MinMaxScaler()),('GB', GradientBoostingRegressor(n_estimators=n_estimator))])))\n",
    "models.append(('N_GB', Pipeline([('Norm', Normalizer()),('GB', GradientBoostingRegressor(n_estimators=n_estimator))])))"
   ]
  },
  {
   "cell_type": "code",
   "execution_count": 11,
   "metadata": {},
   "outputs": [
    {
     "name": "stdout",
     "output_type": "stream",
     "text": [
      "CART 3634.828469492683\n",
      "SS_CART 3627.4713469357484\n",
      "MMS_CART 3625.9236590950495\n",
      "N_CART 3717.5803258233714\n",
      "ET 3534.977824103481\n",
      "SS_ET 3533.761390883856\n",
      "MMS_ET 3534.0866354899213\n",
      "N_ET 3548.318327770764\n",
      "GB 4364.037342221434\n",
      "SS_GB 4364.03637479731\n",
      "MMS_GB 4364.031101945555\n",
      "N_GB 4738.325107505117\n"
     ]
    }
   ],
   "source": [
    "for name, model in models:\n",
    "    m_fit = model.fit(train[feat].values, train.CPM.values.ravel())\n",
    "    y_predict = m_fit.predict(test[feat].values)\n",
    "    print(name, mean_squared_error(test.CPM, y_predict))"
   ]
  }
 ],
 "metadata": {
  "kernelspec": {
   "display_name": "Python 3 (ipykernel)",
   "language": "python",
   "name": "python3"
  },
  "language_info": {
   "codemirror_mode": {
    "name": "ipython",
    "version": 3
   },
   "file_extension": ".py",
   "mimetype": "text/x-python",
   "name": "python",
   "nbconvert_exporter": "python",
   "pygments_lexer": "ipython3",
   "version": "3.8.12"
  },
  "papermill": {
   "duration": 2388.059768,
   "end_time": "2020-11-12T08:02:32.674702",
   "environment_variables": {},
   "exception": null,
   "input_path": "__notebook__.ipynb",
   "output_path": "__notebook__.ipynb",
   "parameters": {},
   "start_time": "2020-11-12T07:22:44.614934",
   "version": "2.1.0"
  }
 },
 "nbformat": 4,
 "nbformat_minor": 4
}
